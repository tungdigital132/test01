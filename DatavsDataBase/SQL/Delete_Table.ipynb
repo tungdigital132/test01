{
 "cells": [
  {
   "cell_type": "markdown",
   "metadata": {},
   "source": [
    "XÓA TABLE Broker or DP"
   ]
  },
  {
   "cell_type": "code",
   "execution_count": 4,
   "metadata": {},
   "outputs": [
    {
     "name": "stdout",
     "output_type": "stream",
     "text": [
      "Bảng 'Broker or DP' đã được xóa thành công!\n"
     ]
    }
   ],
   "source": [
    "import pyodbc\n",
    "\n",
    "# Kết nối tới SQL Server\n",
    "server = '.\\\\MSSQLSERVER02'\n",
    "database = 'DatabaseSymbols'\n",
    "username = 'sa01'\n",
    "password = 'sa123456'\n",
    "\n",
    "connection_string = f\"DRIVER={{ODBC Driver 17 for SQL Server}};SERVER={server};DATABASE={database};UID={username};PWD={password}\"\n",
    "\n",
    "try:\n",
    "    conn = pyodbc.connect(connection_string)\n",
    "    cursor = conn.cursor()\n",
    "    \n",
    "    # Xóa bảng\n",
    "    drop_table_query = \"\"\"\n",
    "    DROP TABLE IF EXISTS [Broker or DP];\n",
    "    \"\"\"\n",
    "    \n",
    "    cursor.execute(drop_table_query)\n",
    "    conn.commit()\n",
    "    print(\"Bảng 'Broker or DP' đã được xóa thành công!\")\n",
    "except Exception as e:\n",
    "    print(\"Lỗi:\", e)\n",
    "finally:\n",
    "    if conn:\n",
    "        conn.close()\n"
   ]
  },
  {
   "cell_type": "markdown",
   "metadata": {},
   "source": [
    "XÓA TABLE Reference Name"
   ]
  },
  {
   "cell_type": "code",
   "execution_count": 19,
   "metadata": {},
   "outputs": [
    {
     "name": "stdout",
     "output_type": "stream",
     "text": [
      "Bảng 'Reference Name' đã được xóa thành công!\n"
     ]
    }
   ],
   "source": [
    "import pyodbc\n",
    "\n",
    "# Kết nối tới SQL Server\n",
    "server = '.\\\\MSSQLSERVER02'\n",
    "database = 'DatabaseSymbols'\n",
    "username = 'sa01'\n",
    "password = 'sa123456'\n",
    "\n",
    "connection_string = f\"DRIVER={{ODBC Driver 17 for SQL Server}};SERVER={server};DATABASE={database};UID={username};PWD={password}\"\n",
    "\n",
    "try:\n",
    "    conn = pyodbc.connect(connection_string)\n",
    "    cursor = conn.cursor()\n",
    "    \n",
    "    # Xóa bảng\n",
    "    drop_table_query = \"\"\"\n",
    "    DROP TABLE IF EXISTS [Reference Name];\n",
    "    \"\"\"\n",
    "    \n",
    "    cursor.execute(drop_table_query)\n",
    "    conn.commit()\n",
    "    print(\"Bảng 'Reference Name' đã được xóa thành công!\")\n",
    "except Exception as e:\n",
    "    print(\"Lỗi:\", e)\n",
    "finally:\n",
    "    if conn:\n",
    "        conn.close()\n"
   ]
  },
  {
   "cell_type": "markdown",
   "metadata": {},
   "source": [
    "XÓA TABLE Specific SYMBOL - Tradingview"
   ]
  },
  {
   "cell_type": "code",
   "execution_count": 20,
   "metadata": {},
   "outputs": [
    {
     "name": "stdout",
     "output_type": "stream",
     "text": [
      "Bảng 'Specific SYMBOL - Tradingview' đã được xóa thành công!\n"
     ]
    }
   ],
   "source": [
    "import pyodbc\n",
    "\n",
    "# Kết nối tới SQL Server\n",
    "server = '.\\\\MSSQLSERVER02'\n",
    "database = 'DatabaseSymbols'\n",
    "username = 'sa01'\n",
    "password = 'sa123456'\n",
    "\n",
    "connection_string = f\"DRIVER={{ODBC Driver 17 for SQL Server}};SERVER={server};DATABASE={database};UID={username};PWD={password}\"\n",
    "\n",
    "try:\n",
    "    conn = pyodbc.connect(connection_string)\n",
    "    cursor = conn.cursor()\n",
    "    \n",
    "    # Xóa bảng\n",
    "    drop_table_query = \"\"\"\n",
    "    DROP TABLE IF EXISTS [Specific SYMBOL - Tradingview];\n",
    "    \"\"\"\n",
    "    \n",
    "    cursor.execute(drop_table_query)\n",
    "    conn.commit()\n",
    "    print(\"Bảng 'Specific SYMBOL - Tradingview' đã được xóa thành công!\")\n",
    "except Exception as e:\n",
    "    print(\"Lỗi:\", e)\n",
    "finally:\n",
    "    if conn:\n",
    "        conn.close()\n"
   ]
  },
  {
   "cell_type": "markdown",
   "metadata": {},
   "source": [
    "XÓA TABLE Specific SYMBOL - FPMarket"
   ]
  },
  {
   "cell_type": "code",
   "execution_count": 21,
   "metadata": {},
   "outputs": [
    {
     "name": "stdout",
     "output_type": "stream",
     "text": [
      "Bảng 'Specific SYMBOL - FPMarket' đã được xóa thành công!\n"
     ]
    }
   ],
   "source": [
    "import pyodbc\n",
    "\n",
    "# Kết nối tới SQL Server\n",
    "server = '.\\\\MSSQLSERVER02'\n",
    "database = 'DatabaseSymbols'\n",
    "username = 'sa01'\n",
    "password = 'sa123456'\n",
    "\n",
    "connection_string = f\"DRIVER={{ODBC Driver 17 for SQL Server}};SERVER={server};DATABASE={database};UID={username};PWD={password}\"\n",
    "\n",
    "try:\n",
    "    conn = pyodbc.connect(connection_string)\n",
    "    cursor = conn.cursor()\n",
    "    \n",
    "    # Xóa bảng\n",
    "    drop_table_query = \"\"\"\n",
    "    DROP TABLE IF EXISTS [Specific SYMBOL - FPMarket];\n",
    "    \"\"\"\n",
    "    \n",
    "    cursor.execute(drop_table_query)\n",
    "    conn.commit()\n",
    "    print(\"Bảng 'Specific SYMBOL - FPMarket' đã được xóa thành công!\")\n",
    "except Exception as e:\n",
    "    print(\"Lỗi:\", e)\n",
    "finally:\n",
    "    if conn:\n",
    "        conn.close()\n"
   ]
  },
  {
   "cell_type": "markdown",
   "metadata": {},
   "source": [
    "XÓA DATA TABLE"
   ]
  },
  {
   "cell_type": "code",
   "execution_count": 5,
   "metadata": {},
   "outputs": [
    {
     "name": "stdout",
     "output_type": "stream",
     "text": [
      "Bảng 'Data Table' đã được xóa thành công!\n"
     ]
    }
   ],
   "source": [
    "import pyodbc\n",
    "\n",
    "# Kết nối tới SQL Server\n",
    "server = '.\\\\MSSQLSERVER02'\n",
    "database = 'DatabaseSymbols'\n",
    "username = 'sa01'\n",
    "password = 'sa123456'\n",
    "\n",
    "connection_string = f\"DRIVER={{ODBC Driver 17 for SQL Server}};SERVER={server};DATABASE={database};UID={username};PWD={password}\"\n",
    "\n",
    "try:\n",
    "    conn = pyodbc.connect(connection_string)\n",
    "    cursor = conn.cursor()\n",
    "    \n",
    "    # Xóa bảng\n",
    "    drop_table_query = \"\"\"\n",
    "    DROP TABLE IF EXISTS [Data Table];\n",
    "    \"\"\"\n",
    "    \n",
    "    cursor.execute(drop_table_query)\n",
    "    conn.commit()\n",
    "    print(\"Bảng 'Data Table' đã được xóa thành công!\")\n",
    "except Exception as e:\n",
    "    print(\"Lỗi:\", e)\n",
    "finally:\n",
    "    if conn:\n",
    "        conn.close()\n"
   ]
  },
  {
   "cell_type": "markdown",
   "metadata": {},
   "source": [
    "XÓA TABLE TIME FRAME"
   ]
  },
  {
   "cell_type": "code",
   "execution_count": 6,
   "metadata": {},
   "outputs": [
    {
     "name": "stdout",
     "output_type": "stream",
     "text": [
      "Bảng 'Time Frame' đã được xóa thành công!\n"
     ]
    }
   ],
   "source": [
    "import pyodbc\n",
    "\n",
    "# Kết nối tới SQL Server\n",
    "server = '.\\\\MSSQLSERVER02'\n",
    "database = 'DatabaseSymbols'\n",
    "username = 'sa01'\n",
    "password = 'sa123456'\n",
    "\n",
    "connection_string = f\"DRIVER={{ODBC Driver 17 for SQL Server}};SERVER={server};DATABASE={database};UID={username};PWD={password}\"\n",
    "\n",
    "try:\n",
    "    conn = pyodbc.connect(connection_string)\n",
    "    cursor = conn.cursor()\n",
    "    \n",
    "    # Xóa bảng\n",
    "    drop_table_query = \"\"\"\n",
    "    DROP TABLE IF EXISTS [Time Frame];\n",
    "    \"\"\"\n",
    "    \n",
    "    cursor.execute(drop_table_query)\n",
    "    conn.commit()\n",
    "    print(\"Bảng 'Time Frame' đã được xóa thành công!\")\n",
    "except Exception as e:\n",
    "    print(\"Lỗi:\", e)\n",
    "finally:\n",
    "    if conn:\n",
    "        conn.close()\n"
   ]
  }
 ],
 "metadata": {
  "kernelspec": {
   "display_name": "Python 3",
   "language": "python",
   "name": "python3"
  },
  "language_info": {
   "codemirror_mode": {
    "name": "ipython",
    "version": 3
   },
   "file_extension": ".py",
   "mimetype": "text/x-python",
   "name": "python",
   "nbconvert_exporter": "python",
   "pygments_lexer": "ipython3",
   "version": "3.11.6"
  }
 },
 "nbformat": 4,
 "nbformat_minor": 2
}
