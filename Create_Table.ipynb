{
 "cells": [
  {
   "cell_type": "markdown",
   "metadata": {},
   "source": [
    "TẠO TABLE Broker or DP"
   ]
  },
  {
   "cell_type": "code",
   "execution_count": 3,
   "metadata": {},
   "outputs": [
    {
     "name": "stdout",
     "output_type": "stream",
     "text": [
      "Bảng 'Broker or DP' đã được tạo thành công!\n"
     ]
    }
   ],
   "source": [
    "import pyodbc\n",
    "\n",
    "# Kết nối tới SQL Server\n",
    "server = '.\\\\MSSQLSERVER02'\n",
    "database = 'DatabaseSymbols'\n",
    "username = 'sa01'\n",
    "password = 'sa123456'\n",
    "\n",
    "connection_string = f\"DRIVER={{ODBC Driver 17 for SQL Server}};SERVER={server};DATABASE={database};UID={username};PWD={password}\"\n",
    "try:\n",
    "    conn = pyodbc.connect(connection_string)\n",
    "    cursor = conn.cursor()\n",
    "    \n",
    "    # Tạo bảng\n",
    "    create_table_query = \"\"\"\n",
    "    CREATE TABLE [Broker or DP] (\n",
    "        [Broker or DP number] VARCHAR(2) PRIMARY KEY,\n",
    "        [Broker or DP name] VARCHAR(225) ,\n",
    "        [Broker or DP ID] VARCHAR(4) ,\n",
    "\n",
    "    );\n",
    "    \"\"\"\n",
    "    \n",
    "    cursor.execute(create_table_query)\n",
    "    conn.commit()\n",
    "    print(\"Bảng 'Broker or DP' đã được tạo thành công!\")\n",
    "except Exception as e:\n",
    "    print(\"Lỗi:\", e)\n",
    "finally:\n",
    "    if conn:\n",
    "        conn.close()\n"
   ]
  },
  {
   "cell_type": "markdown",
   "metadata": {},
   "source": [
    "\n",
    "TẠO TABLE Reference Name"
   ]
  },
  {
   "cell_type": "code",
   "execution_count": 17,
   "metadata": {},
   "outputs": [
    {
     "name": "stdout",
     "output_type": "stream",
     "text": [
      "Bảng 'Reference Name' đã được tạo thành công!\n"
     ]
    }
   ],
   "source": [
    "import pyodbc\n",
    "\n",
    "# Kết nối tới SQL Server\n",
    "server = '.\\\\MSSQLSERVER02'\n",
    "database = 'DatabaseSymbols'\n",
    "username = 'sa01'\n",
    "password = 'sa123456'\n",
    "\n",
    "connection_string = f\"DRIVER={{ODBC Driver 17 for SQL Server}};SERVER={server};DATABASE={database};UID={username};PWD={password}\"\n",
    "try:\n",
    "    conn = pyodbc.connect(connection_string)\n",
    "    cursor = conn.cursor()\n",
    "    \n",
    "    # Tạo bảng\n",
    "    create_table_query = \"\"\"\n",
    "    CREATE TABLE [Reference Name] (\n",
    "        [Instrument Reference Name] VARCHAR(255) ,\n",
    "        [Instrument Reference ID] VARCHAR(2) PRIMARY KEY,\n",
    "        [Instrument Type Name] VARCHAR(225),\n",
    "        [Instrument Type ID] VARCHAR(1)\n",
    "    );\n",
    "    \"\"\"\n",
    "    \n",
    "    cursor.execute(create_table_query)\n",
    "    conn.commit()\n",
    "    print(\"Bảng 'Reference Name' đã được tạo thành công!\")\n",
    "except Exception as e:\n",
    "    print(\"Lỗi:\", e)\n",
    "finally:\n",
    "    if conn:\n",
    "        conn.close()\n"
   ]
  },
  {
   "cell_type": "markdown",
   "metadata": {},
   "source": [
    "TẠO TABLE Specific SYMBOL - Tradingview"
   ]
  },
  {
   "cell_type": "code",
   "execution_count": 18,
   "metadata": {},
   "outputs": [
    {
     "name": "stdout",
     "output_type": "stream",
     "text": [
      "Bảng 'Specific SYMBOL - Tradingview' đã được tạo thành công!\n"
     ]
    }
   ],
   "source": [
    "import pyodbc\n",
    "\n",
    "# Kết nối tới SQL Server\n",
    "server = '.\\\\MSSQLSERVER02'\n",
    "database = 'DatabaseSymbols'\n",
    "username = 'sa01'\n",
    "password = 'sa123456'\n",
    "\n",
    "connection_string = f\"DRIVER={{ODBC Driver 17 for SQL Server}};SERVER={server};DATABASE={database};UID={username};PWD={password}\"\n",
    "try:\n",
    "    conn = pyodbc.connect(connection_string)\n",
    "    cursor = conn.cursor()\n",
    "    \n",
    "    # Tạo bảng\n",
    "    create_table_query = \"\"\"\n",
    "    CREATE TABLE [Specific SYMBOL - Tradingview] (\n",
    "        [Specific Instrument SYMBOL] VARCHAR(255),\n",
    "        [Instrument Specific ID] VARCHAR(2) PRIMARY KEY,\n",
    "        [Specific Instrument Type Name] VARCHAR(225),\n",
    "        [Instrument Type ID] VARCHAR(1),\n",
    "        [Broker or DP number] VARCHAR(2)\n",
    "    );\n",
    "    \"\"\"\n",
    "    \n",
    "    cursor.execute(create_table_query)\n",
    "    conn.commit()\n",
    "    print(\"Bảng 'Specific SYMBOL - Tradingview' đã được tạo thành công!\")\n",
    "except Exception as e:\n",
    "    print(\"Lỗi:\", e)\n",
    "finally:\n",
    "    if conn:\n",
    "        conn.close()\n"
   ]
  },
  {
   "cell_type": "markdown",
   "metadata": {},
   "source": [
    "TẠO TABLE Specific SYMBOL - FPMarket"
   ]
  },
  {
   "cell_type": "code",
   "execution_count": 19,
   "metadata": {},
   "outputs": [
    {
     "name": "stdout",
     "output_type": "stream",
     "text": [
      "Bảng 'Specific SYMBOL - FPMarket' đã được tạo thành công!\n"
     ]
    }
   ],
   "source": [
    "import pyodbc\n",
    "\n",
    "# Kết nối tới SQL Server\n",
    "server = '.\\\\MSSQLSERVER02'\n",
    "database = 'DatabaseSymbols'\n",
    "username = 'sa01'\n",
    "password = 'sa123456'\n",
    "\n",
    "connection_string = f\"DRIVER={{ODBC Driver 17 for SQL Server}};SERVER={server};DATABASE={database};UID={username};PWD={password}\"\n",
    "try:\n",
    "    conn = pyodbc.connect(connection_string)\n",
    "    cursor = conn.cursor()\n",
    "    \n",
    "    # Tạo bảng\n",
    "    create_table_query = \"\"\"\n",
    "    CREATE TABLE [Specific SYMBOL - FPMarket] (\n",
    "        [Specific Instrument SYMBOL] VARCHAR(255),\n",
    "        [Instrument Specific ID] VARCHAR(2) PRIMARY KEY,\n",
    "        [Specific Instrument Type Name] VARCHAR(225),\n",
    "        [Instrument Type ID] VARCHAR(1),\n",
    "        [Broker or DP number] VARCHAR(2)\n",
    "\n",
    "    );\n",
    "    \"\"\"\n",
    "    \n",
    "    cursor.execute(create_table_query)\n",
    "    conn.commit()\n",
    "    print(\"Bảng 'Specific SYMBOL - FPMarket' đã được tạo thành công!\")\n",
    "except Exception as e:\n",
    "    print(\"Lỗi:\", e)\n",
    "finally:\n",
    "    if conn:\n",
    "        conn.close()\n"
   ]
  },
  {
   "cell_type": "markdown",
   "metadata": {},
   "source": [
    "TẠO DATA TABLE"
   ]
  },
  {
   "cell_type": "code",
   "execution_count": 2,
   "metadata": {},
   "outputs": [
    {
     "name": "stdout",
     "output_type": "stream",
     "text": [
      "Bảng 'Data Table' đã được tạo thành công!\n"
     ]
    }
   ],
   "source": [
    "import pyodbc\n",
    "\n",
    "# Kết nối tới SQL Server\n",
    "server = '.\\\\MSSQLSERVER02'\n",
    "database = 'DatabaseSymbols'\n",
    "username = 'sa01'\n",
    "password = 'sa123456'\n",
    "\n",
    "connection_string = f\"DRIVER={{ODBC Driver 17 for SQL Server}};SERVER={server};DATABASE={database};UID={username};PWD={password}\"\n",
    "try:\n",
    "    conn = pyodbc.connect(connection_string)\n",
    "    cursor = conn.cursor()\n",
    "    \n",
    "    # Tạo bảng\n",
    "    create_table_query = \"\"\"\n",
    "    CREATE TABLE [Data Table] (\n",
    "        [IIT ID Number] VARCHAR(255) PRIMARY KEY,\n",
    "        [IIT ID Name] VARCHAR(255) ,\n",
    "        [Broker or DP number] VARCHAR(2) ,\n",
    "        [Broker or DP name] VARCHAR(225) ,\n",
    "        [Broker or DP ID] VARCHAR(4) ,\n",
    "        [Instrument Reference Name] VARCHAR(255) ,\n",
    "        [Instrument Reference ID] VARCHAR(2) ,\n",
    "        [Instrument Type Name] VARCHAR(225),\n",
    "        [Instrument Type ID] VARCHAR(1) ,\n",
    "        [Specific Instrument Type Name] VARCHAR(225),\n",
    "        [Specific Instrument SYMBOL] VARCHAR(255),\n",
    "\n",
    "    );\n",
    "    \"\"\"\n",
    "    \n",
    "    cursor.execute(create_table_query)\n",
    "    conn.commit()\n",
    "    print(\"Bảng 'Data Table' đã được tạo thành công!\")\n",
    "except Exception as e:\n",
    "    print(\"Lỗi:\", e)\n",
    "finally:\n",
    "    if conn:\n",
    "        conn.close()\n"
   ]
  },
  {
   "cell_type": "markdown",
   "metadata": {},
   "source": [
    "TẠO TABLE TIMEFRAME"
   ]
  },
  {
   "cell_type": "code",
   "execution_count": 7,
   "metadata": {},
   "outputs": [
    {
     "name": "stdout",
     "output_type": "stream",
     "text": [
      "Bảng 'Time Frame' đã được tạo thành công!\n"
     ]
    }
   ],
   "source": [
    "import pyodbc\n",
    "\n",
    "# Kết nối tới SQL Server\n",
    "server = '.\\\\MSSQLSERVER02'\n",
    "database = 'DatabaseSymbols'\n",
    "username = 'sa01'\n",
    "password = 'sa123456'\n",
    "\n",
    "connection_string = f\"DRIVER={{ODBC Driver 17 for SQL Server}};SERVER={server};DATABASE={database};UID={username};PWD={password}\"\n",
    "try:\n",
    "    conn = pyodbc.connect(connection_string)\n",
    "    cursor = conn.cursor()\n",
    "    \n",
    "    # Tạo bảng\n",
    "    create_table_query = \"\"\"\n",
    "    CREATE TABLE [Time Frame] (\n",
    "        [Time Frame ID] VARCHAR(255) PRIMARY KEY,\n",
    "        [Time Frame Name] VARCHAR(255) ,\n",
    "        [Broker or DP Platform] VARCHAR(255) ,\n",
    "\n",
    "\n",
    "    );\n",
    "    \"\"\"\n",
    "    \n",
    "    cursor.execute(create_table_query)\n",
    "    conn.commit()\n",
    "    print(\"Bảng 'Time Frame' đã được tạo thành công!\")\n",
    "except Exception as e:\n",
    "    print(\"Lỗi:\", e)\n",
    "finally:\n",
    "    if conn:\n",
    "        conn.close()\n"
   ]
  },
  {
   "cell_type": "code",
   "execution_count": 21,
   "metadata": {},
   "outputs": [
    {
     "name": "stdout",
     "output_type": "stream",
     "text": [
      "Có lỗi xảy ra khi tạo bảng [DJI_TDV_D1] trong cơ sở dữ liệu [DJI]: ('28000', '[28000] [Microsoft][ODBC Driver 17 for SQL Server][SQL Server]Login failed for user \\'sa01\\'. (18456) (SQLDriverConnect); [28000] [Microsoft][ODBC Driver 17 for SQL Server][SQL Server]Cannot open database \"DJI\" requested by the login. The login failed. (4060); [28000] [Microsoft][ODBC Driver 17 for SQL Server][SQL Server]Login failed for user \\'sa01\\'. (18456); [28000] [Microsoft][ODBC Driver 17 for SQL Server][SQL Server]Cannot open database \"DJI\" requested by the login. The login failed. (4060)')\n",
      "Có lỗi xảy ra khi tạo bảng [SPX_TDV_D1] trong cơ sở dữ liệu [SPX]: ('28000', '[28000] [Microsoft][ODBC Driver 17 for SQL Server][SQL Server]Login failed for user \\'sa01\\'. (18456) (SQLDriverConnect); [28000] [Microsoft][ODBC Driver 17 for SQL Server][SQL Server]Cannot open database \"SPX\" requested by the login. The login failed. (4060); [28000] [Microsoft][ODBC Driver 17 for SQL Server][SQL Server]Login failed for user \\'sa01\\'. (18456); [28000] [Microsoft][ODBC Driver 17 for SQL Server][SQL Server]Cannot open database \"SPX\" requested by the login. The login failed. (4060)')\n",
      "Có lỗi xảy ra khi tạo bảng [UKX_TDV_D1] trong cơ sở dữ liệu [UKX]: ('28000', '[28000] [Microsoft][ODBC Driver 17 for SQL Server][SQL Server]Login failed for user \\'sa01\\'. (18456) (SQLDriverConnect); [28000] [Microsoft][ODBC Driver 17 for SQL Server][SQL Server]Cannot open database \"UKX\" requested by the login. The login failed. (4060); [28000] [Microsoft][ODBC Driver 17 for SQL Server][SQL Server]Login failed for user \\'sa01\\'. (18456); [28000] [Microsoft][ODBC Driver 17 for SQL Server][SQL Server]Cannot open database \"UKX\" requested by the login. The login failed. (4060)')\n",
      "Có lỗi xảy ra khi tạo bảng [DEU40_TDV_D1] trong cơ sở dữ liệu [DEU40]: ('28000', '[28000] [Microsoft][ODBC Driver 17 for SQL Server][SQL Server]Login failed for user \\'sa01\\'. (18456) (SQLDriverConnect); [28000] [Microsoft][ODBC Driver 17 for SQL Server][SQL Server]Cannot open database \"DEU40\" requested by the login. The login failed. (4060); [28000] [Microsoft][ODBC Driver 17 for SQL Server][SQL Server]Login failed for user \\'sa01\\'. (18456); [28000] [Microsoft][ODBC Driver 17 for SQL Server][SQL Server]Cannot open database \"DEU40\" requested by the login. The login failed. (4060)')\n",
      "Có lỗi xảy ra khi tạo bảng [NI225_TDV_D1] trong cơ sở dữ liệu [NI225]: ('28000', '[28000] [Microsoft][ODBC Driver 17 for SQL Server][SQL Server]Login failed for user \\'sa01\\'. (18456) (SQLDriverConnect); [28000] [Microsoft][ODBC Driver 17 for SQL Server][SQL Server]Cannot open database \"NI225\" requested by the login. The login failed. (4060); [28000] [Microsoft][ODBC Driver 17 for SQL Server][SQL Server]Login failed for user \\'sa01\\'. (18456); [28000] [Microsoft][ODBC Driver 17 for SQL Server][SQL Server]Cannot open database \"NI225\" requested by the login. The login failed. (4060)')\n"
     ]
    }
   ],
   "source": [
    "import pyodbc\n",
    "\n",
    "def create_output_tables(symbols, server, username, password, driver='{ODBC Driver 17 for SQL Server}'):\n",
    "    \"\"\"\n",
    "    Hàm để tạo bảng {symbol}_Meta5_H1 trong cơ sở dữ liệu tương ứng với mỗi symbol.\n",
    "\n",
    "    Args:\n",
    "        symbols (set): Tập hợp các symbol.\n",
    "        server (str): Tên hoặc địa chỉ mạng của instance SQL Server để kết nối.\n",
    "        username (str): Tên đăng nhập tài khoản SQL Server.\n",
    "        password (str): Mật khẩu cho tài khoản SQL Server.\n",
    "        driver (str): Driver ODBC cho SQL Server.\n",
    "    \"\"\"\n",
    "    for symbol in symbols:\n",
    "        database = symbol  # Sử dụng symbol làm tên cơ sở dữ liệu\n",
    "        table_name = f\"{symbol}_TDV_D1\"  # Tên bảng cần tạo\n",
    "\n",
    "        # Chuỗi kết nối\n",
    "        conn_str = f'DRIVER={driver};SERVER={server};DATABASE={database};UID={username};PWD={password}'\n",
    "\n",
    "        # Câu lệnh SQL để tạo bảng\n",
    "        create_table_sql = f\"\"\"\n",
    "        SET ANSI_NULLS ON;\n",
    "\n",
    "        SET QUOTED_IDENTIFIER ON;\n",
    "\n",
    "        IF NOT EXISTS (SELECT * FROM sys.tables WHERE name = '{table_name}')\n",
    "        BEGIN\n",
    "            CREATE TABLE [dbo].[{table_name}](\n",
    "                [Datetime_Index] DATETIME NULL,\n",
    "                [Open] FLOAT NULL,\n",
    "                [High] FLOAT NULL,\n",
    "                [Low] FLOAT NULL,\n",
    "                [Close] FLOAT NULL,\n",
    "                [Volume] BIGINT NULL\n",
    "            ) ON [PRIMARY];\n",
    "        END;\n",
    "        \"\"\"\n",
    "\n",
    "        try:\n",
    "            # Thiết lập kết nối\n",
    "            with pyodbc.connect(conn_str) as conn:\n",
    "                with conn.cursor() as cursor:\n",
    "                    # Thực thi câu lệnh SQL\n",
    "                    cursor.execute(create_table_sql)\n",
    "                    conn.commit()\n",
    "                    print(f\"Bảng [{table_name}] đã được tạo thành công trong cơ sở dữ liệu [{database}].\")\n",
    "        except Exception as e:\n",
    "            print(f\"Có lỗi xảy ra khi tạo bảng [{table_name}] trong cơ sở dữ liệu [{database}]: {e}\")\n",
    "\n",
    "\n",
    "symbols = {\n",
    "    #FOREX\n",
    "    # 'EURUSD',\n",
    "    # 'GBPUSD',\n",
    "    # 'NZDUSD',\n",
    "    # 'AUDUSD',\n",
    "    # 'USDCAD',\n",
    "    # 'USDJPY',\n",
    "    # 'USDCHF',\n",
    "    # 'XAUUSD',\n",
    "    # 'DXY',\n",
    "\n",
    "    # 'IXIC',\n",
    "    'DJI', 'SPX',\n",
    "    'UKX', \n",
    "    'DEU40',\n",
    "    'NI225',\n",
    "}\n",
    "\n",
    "server = '.\\\\MSSQLSERVER02'  # Thay thế bằng tên server của bạn\n",
    "username = 'sa01'  # Thay thế bằng tên đăng nhập của bạn\n",
    "password = 'sa123456'  # Thay thế bằng mật khẩu của bạn\n",
    "\n",
    "create_output_tables(symbols, server, username, password)\n",
    "\n"
   ]
  }
 ],
 "metadata": {
  "kernelspec": {
   "display_name": "Python 3",
   "language": "python",
   "name": "python3"
  },
  "language_info": {
   "codemirror_mode": {
    "name": "ipython",
    "version": 3
   },
   "file_extension": ".py",
   "mimetype": "text/x-python",
   "name": "python",
   "nbconvert_exporter": "python",
   "pygments_lexer": "ipython3",
   "version": "3.11.6"
  }
 },
 "nbformat": 4,
 "nbformat_minor": 2
}
